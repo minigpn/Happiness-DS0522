{
 "cells": [
  {
   "cell_type": "code",
   "execution_count": 42,
   "id": "d58063b4",
   "metadata": {
    "id": "61gpPBSVfeRn",
    "papermill": {
     "duration": 2.865395,
     "end_time": "2022-02-23T17:16:27.651100",
     "exception": false,
     "start_time": "2022-02-23T17:16:24.785705",
     "status": "completed"
    },
    "tags": []
   },
   "outputs": [],
   "source": [
    "import pandas as pd\n",
    "import numpy as np\n",
    "import seaborn as sns\n",
    "import matplotlib.pyplot as plt\n",
    "import plotly.express as px\n",
    "from sklearn.preprocessing import StandardScaler\n",
    "from sklearn.model_selection import train_test_split\n",
    "from sklearn.linear_model import LinearRegression\n",
    "from sklearn.ensemble import RandomForestRegressor\n",
    "from sklearn.tree import DecisionTreeRegressor\n",
    "from sklearn.metrics import r2_score,mean_squared_error\n",
    "from sklearn.model_selection import cross_val_score\n",
    "from sklearn.model_selection import GridSearchCV\n"
   ]
  },
  {
   "cell_type": "code",
   "execution_count": 43,
   "id": "cb9acbcf",
   "metadata": {
    "id": "2_LVf8Q1ueB3",
    "papermill": {
     "duration": 0.118334,
     "end_time": "2022-02-23T17:16:28.029199",
     "exception": false,
     "start_time": "2022-02-23T17:16:27.910865",
     "status": "completed"
    },
    "tags": []
   },
   "outputs": [],
   "source": [
    "df =(pd.read_csv(\"./data/happiness.csv\").drop(columns=[\"Standard Error\",\"Dystopia Residual\",\"Region\"])\n",
    ".rename(columns={\"Economy (GDP per Capita)\": \"GDP\",\n",
    "                     \"Health (Life Expectancy)\": \"Life\",\n",
    "                     \"Trust (Government Corruption)\": \"Trust\"}))"
   ]
  },
  {
   "cell_type": "code",
   "execution_count": 44,
   "id": "94f8f09b",
   "metadata": {
    "papermill": {
     "duration": 0.112123,
     "end_time": "2022-02-23T17:16:30.074848",
     "exception": false,
     "start_time": "2022-02-23T17:16:29.962725",
     "status": "completed"
    },
    "tags": []
   },
   "outputs": [
    {
     "data": {
      "text/html": [
       "<div>\n",
       "<style scoped>\n",
       "    .dataframe tbody tr th:only-of-type {\n",
       "        vertical-align: middle;\n",
       "    }\n",
       "\n",
       "    .dataframe tbody tr th {\n",
       "        vertical-align: top;\n",
       "    }\n",
       "\n",
       "    .dataframe thead th {\n",
       "        text-align: right;\n",
       "    }\n",
       "</style>\n",
       "<table border=\"1\" class=\"dataframe\">\n",
       "  <thead>\n",
       "    <tr style=\"text-align: right;\">\n",
       "      <th></th>\n",
       "      <th>Country</th>\n",
       "      <th>Happiness Rank</th>\n",
       "      <th>Happiness Score</th>\n",
       "      <th>GDP</th>\n",
       "      <th>Family</th>\n",
       "      <th>Life</th>\n",
       "      <th>Freedom</th>\n",
       "      <th>Trust</th>\n",
       "      <th>Generosity</th>\n",
       "    </tr>\n",
       "  </thead>\n",
       "  <tbody>\n",
       "    <tr>\n",
       "      <th>0</th>\n",
       "      <td>Switzerland</td>\n",
       "      <td>1</td>\n",
       "      <td>7.587</td>\n",
       "      <td>1.39651</td>\n",
       "      <td>1.34951</td>\n",
       "      <td>0.94143</td>\n",
       "      <td>0.66557</td>\n",
       "      <td>0.41978</td>\n",
       "      <td>0.29678</td>\n",
       "    </tr>\n",
       "    <tr>\n",
       "      <th>1</th>\n",
       "      <td>Iceland</td>\n",
       "      <td>2</td>\n",
       "      <td>7.561</td>\n",
       "      <td>1.30232</td>\n",
       "      <td>1.40223</td>\n",
       "      <td>0.94784</td>\n",
       "      <td>0.62877</td>\n",
       "      <td>0.14145</td>\n",
       "      <td>0.43630</td>\n",
       "    </tr>\n",
       "    <tr>\n",
       "      <th>2</th>\n",
       "      <td>Denmark</td>\n",
       "      <td>3</td>\n",
       "      <td>7.527</td>\n",
       "      <td>1.32548</td>\n",
       "      <td>1.36058</td>\n",
       "      <td>0.87464</td>\n",
       "      <td>0.64938</td>\n",
       "      <td>0.48357</td>\n",
       "      <td>0.34139</td>\n",
       "    </tr>\n",
       "    <tr>\n",
       "      <th>3</th>\n",
       "      <td>Norway</td>\n",
       "      <td>4</td>\n",
       "      <td>7.522</td>\n",
       "      <td>1.45900</td>\n",
       "      <td>1.33095</td>\n",
       "      <td>0.88521</td>\n",
       "      <td>0.66973</td>\n",
       "      <td>0.36503</td>\n",
       "      <td>0.34699</td>\n",
       "    </tr>\n",
       "    <tr>\n",
       "      <th>4</th>\n",
       "      <td>Canada</td>\n",
       "      <td>5</td>\n",
       "      <td>7.427</td>\n",
       "      <td>1.32629</td>\n",
       "      <td>1.32261</td>\n",
       "      <td>0.90563</td>\n",
       "      <td>0.63297</td>\n",
       "      <td>0.32957</td>\n",
       "      <td>0.45811</td>\n",
       "    </tr>\n",
       "  </tbody>\n",
       "</table>\n",
       "</div>"
      ],
      "text/plain": [
       "       Country  Happiness Rank  Happiness Score      GDP   Family     Life  \\\n",
       "0  Switzerland               1            7.587  1.39651  1.34951  0.94143   \n",
       "1      Iceland               2            7.561  1.30232  1.40223  0.94784   \n",
       "2      Denmark               3            7.527  1.32548  1.36058  0.87464   \n",
       "3       Norway               4            7.522  1.45900  1.33095  0.88521   \n",
       "4       Canada               5            7.427  1.32629  1.32261  0.90563   \n",
       "\n",
       "   Freedom    Trust  Generosity  \n",
       "0  0.66557  0.41978     0.29678  \n",
       "1  0.62877  0.14145     0.43630  \n",
       "2  0.64938  0.48357     0.34139  \n",
       "3  0.66973  0.36503     0.34699  \n",
       "4  0.63297  0.32957     0.45811  "
      ]
     },
     "execution_count": 44,
     "metadata": {},
     "output_type": "execute_result"
    }
   ],
   "source": [
    "df.head()"
   ]
  },
  {
   "cell_type": "code",
   "execution_count": 45,
   "id": "906f9137",
   "metadata": {
    "papermill": {
     "duration": 0.112525,
     "end_time": "2022-02-23T17:16:30.274558",
     "exception": false,
     "start_time": "2022-02-23T17:16:30.162033",
     "status": "completed"
    },
    "tags": []
   },
   "outputs": [
    {
     "name": "stdout",
     "output_type": "stream",
     "text": [
      "<class 'pandas.core.frame.DataFrame'>\n",
      "RangeIndex: 158 entries, 0 to 157\n",
      "Data columns (total 9 columns):\n",
      " #   Column           Non-Null Count  Dtype  \n",
      "---  ------           --------------  -----  \n",
      " 0   Country          158 non-null    object \n",
      " 1   Happiness Rank   158 non-null    int64  \n",
      " 2   Happiness Score  158 non-null    float64\n",
      " 3   GDP              158 non-null    float64\n",
      " 4   Family           158 non-null    float64\n",
      " 5   Life             158 non-null    float64\n",
      " 6   Freedom          158 non-null    float64\n",
      " 7   Trust            158 non-null    float64\n",
      " 8   Generosity       158 non-null    float64\n",
      "dtypes: float64(7), int64(1), object(1)\n",
      "memory usage: 11.2+ KB\n"
     ]
    }
   ],
   "source": [
    "df.info()"
   ]
  },
  {
   "cell_type": "code",
   "execution_count": 46,
   "id": "ae17dc8c",
   "metadata": {
    "id": "xZKA0PaqVZnd",
    "outputId": "a7283e1d-5f5d-4d18-aa3c-ccaa5c4882ce",
    "papermill": {
     "duration": 0.128516,
     "end_time": "2022-02-23T17:16:30.491862",
     "exception": false,
     "start_time": "2022-02-23T17:16:30.363346",
     "status": "completed"
    },
    "tags": []
   },
   "outputs": [
    {
     "data": {
      "text/html": [
       "<div>\n",
       "<style scoped>\n",
       "    .dataframe tbody tr th:only-of-type {\n",
       "        vertical-align: middle;\n",
       "    }\n",
       "\n",
       "    .dataframe tbody tr th {\n",
       "        vertical-align: top;\n",
       "    }\n",
       "\n",
       "    .dataframe thead th {\n",
       "        text-align: right;\n",
       "    }\n",
       "</style>\n",
       "<table border=\"1\" class=\"dataframe\">\n",
       "  <thead>\n",
       "    <tr style=\"text-align: right;\">\n",
       "      <th></th>\n",
       "      <th>count</th>\n",
       "      <th>mean</th>\n",
       "      <th>std</th>\n",
       "      <th>min</th>\n",
       "      <th>25%</th>\n",
       "      <th>50%</th>\n",
       "      <th>75%</th>\n",
       "      <th>max</th>\n",
       "    </tr>\n",
       "  </thead>\n",
       "  <tbody>\n",
       "    <tr>\n",
       "      <th>Happiness Rank</th>\n",
       "      <td>158.0</td>\n",
       "      <td>79.493671</td>\n",
       "      <td>45.754363</td>\n",
       "      <td>1.000</td>\n",
       "      <td>40.250000</td>\n",
       "      <td>79.500000</td>\n",
       "      <td>118.750000</td>\n",
       "      <td>158.00000</td>\n",
       "    </tr>\n",
       "    <tr>\n",
       "      <th>Happiness Score</th>\n",
       "      <td>158.0</td>\n",
       "      <td>5.375734</td>\n",
       "      <td>1.145010</td>\n",
       "      <td>2.839</td>\n",
       "      <td>4.526000</td>\n",
       "      <td>5.232500</td>\n",
       "      <td>6.243750</td>\n",
       "      <td>7.58700</td>\n",
       "    </tr>\n",
       "    <tr>\n",
       "      <th>GDP</th>\n",
       "      <td>158.0</td>\n",
       "      <td>0.846137</td>\n",
       "      <td>0.403121</td>\n",
       "      <td>0.000</td>\n",
       "      <td>0.545808</td>\n",
       "      <td>0.910245</td>\n",
       "      <td>1.158448</td>\n",
       "      <td>1.69042</td>\n",
       "    </tr>\n",
       "    <tr>\n",
       "      <th>Family</th>\n",
       "      <td>158.0</td>\n",
       "      <td>0.991046</td>\n",
       "      <td>0.272369</td>\n",
       "      <td>0.000</td>\n",
       "      <td>0.856823</td>\n",
       "      <td>1.029510</td>\n",
       "      <td>1.214405</td>\n",
       "      <td>1.40223</td>\n",
       "    </tr>\n",
       "    <tr>\n",
       "      <th>Life</th>\n",
       "      <td>158.0</td>\n",
       "      <td>0.630259</td>\n",
       "      <td>0.247078</td>\n",
       "      <td>0.000</td>\n",
       "      <td>0.439185</td>\n",
       "      <td>0.696705</td>\n",
       "      <td>0.811013</td>\n",
       "      <td>1.02525</td>\n",
       "    </tr>\n",
       "    <tr>\n",
       "      <th>Freedom</th>\n",
       "      <td>158.0</td>\n",
       "      <td>0.428615</td>\n",
       "      <td>0.150693</td>\n",
       "      <td>0.000</td>\n",
       "      <td>0.328330</td>\n",
       "      <td>0.435515</td>\n",
       "      <td>0.549092</td>\n",
       "      <td>0.66973</td>\n",
       "    </tr>\n",
       "    <tr>\n",
       "      <th>Trust</th>\n",
       "      <td>158.0</td>\n",
       "      <td>0.143422</td>\n",
       "      <td>0.120034</td>\n",
       "      <td>0.000</td>\n",
       "      <td>0.061675</td>\n",
       "      <td>0.107220</td>\n",
       "      <td>0.180255</td>\n",
       "      <td>0.55191</td>\n",
       "    </tr>\n",
       "    <tr>\n",
       "      <th>Generosity</th>\n",
       "      <td>158.0</td>\n",
       "      <td>0.237296</td>\n",
       "      <td>0.126685</td>\n",
       "      <td>0.000</td>\n",
       "      <td>0.150553</td>\n",
       "      <td>0.216130</td>\n",
       "      <td>0.309883</td>\n",
       "      <td>0.79588</td>\n",
       "    </tr>\n",
       "  </tbody>\n",
       "</table>\n",
       "</div>"
      ],
      "text/plain": [
       "                 count       mean        std    min        25%        50%  \\\n",
       "Happiness Rank   158.0  79.493671  45.754363  1.000  40.250000  79.500000   \n",
       "Happiness Score  158.0   5.375734   1.145010  2.839   4.526000   5.232500   \n",
       "GDP              158.0   0.846137   0.403121  0.000   0.545808   0.910245   \n",
       "Family           158.0   0.991046   0.272369  0.000   0.856823   1.029510   \n",
       "Life             158.0   0.630259   0.247078  0.000   0.439185   0.696705   \n",
       "Freedom          158.0   0.428615   0.150693  0.000   0.328330   0.435515   \n",
       "Trust            158.0   0.143422   0.120034  0.000   0.061675   0.107220   \n",
       "Generosity       158.0   0.237296   0.126685  0.000   0.150553   0.216130   \n",
       "\n",
       "                        75%        max  \n",
       "Happiness Rank   118.750000  158.00000  \n",
       "Happiness Score    6.243750    7.58700  \n",
       "GDP                1.158448    1.69042  \n",
       "Family             1.214405    1.40223  \n",
       "Life               0.811013    1.02525  \n",
       "Freedom            0.549092    0.66973  \n",
       "Trust              0.180255    0.55191  \n",
       "Generosity         0.309883    0.79588  "
      ]
     },
     "execution_count": 46,
     "metadata": {},
     "output_type": "execute_result"
    }
   ],
   "source": [
    "df.describe().T"
   ]
  },
  {
   "cell_type": "code",
   "execution_count": 47,
   "id": "4300dc5e",
   "metadata": {
    "papermill": {
     "duration": 0.942513,
     "end_time": "2022-02-23T17:16:31.521836",
     "exception": false,
     "start_time": "2022-02-23T17:16:30.579323",
     "status": "completed"
    },
    "tags": []
   },
   "outputs": [
    {
     "data": {
      "text/plain": [
       "<AxesSubplot: >"
      ]
     },
     "execution_count": 47,
     "metadata": {},
     "output_type": "execute_result"
    },
    {
     "data": {
      "image/png": "[encoded data removed]",
      "text/plain": [
       "<Figure size 864x432 with 2 Axes>"
      ]
     },
     "metadata": {
      "needs_background": "light"
     },
     "output_type": "display_data"
    }
   ],
   "source": [
    "fig, ax = plt.subplots(figsize=(12,6))\n",
    "corr=df.corr()\n",
    "sns.heatmap(corr, annot=True, cmap=\"RdBu\",vmin=-1,vmax=1,fmt=\".2f\")"
   ]
  },
  {
   "cell_type": "code",
   "execution_count": 48,
   "id": "f42be884",
   "metadata": {
    "id": "kj4B30neVg-v",
    "outputId": "a2f9f987-6f85-408c-f3a6-3d39c6d0ba09",
    "papermill": {
     "duration": 1.247271,
     "end_time": "2022-02-23T17:16:32.859854",
     "exception": false,
     "start_time": "2022-02-23T17:16:31.612583",
     "status": "completed"
    },
    "tags": []
   },
   "outputs": [
    {
     "data": {
      "image/png": "[encoded data removed]",
      "text/plain": [
       "<Figure size 432x288 with 1 Axes>"
      ]
     },
     "metadata": {
      "needs_background": "light"
     },
     "output_type": "display_data"
    },
    {
     "data": {
      "image/png": "[encoded data removed]",
      "text/plain": [
       "<Figure size 432x288 with 1 Axes>"
      ]
     },
     "metadata": {
      "needs_background": "light"
     },
     "output_type": "display_data"
    },
    {
     "data": {
      "image/png": "[encoded data removed]",
      "text/plain": [
       "<Figure size 432x288 with 1 Axes>"
      ]
     },
     "metadata": {
      "needs_background": "light"
     },
     "output_type": "display_data"
    },
    {
     "data": {
      "image/png": "[encoded data removed]",
      "text/plain": [
       "<Figure size 432x288 with 1 Axes>"
      ]
     },
     "metadata": {
      "needs_background": "light"
     },
     "output_type": "display_data"
    },
    {
     "data": {
      "image/png": "[encoded data removed]",
      "text/plain": [
       "<Figure size 432x288 with 1 Axes>"
      ]
     },
     "metadata": {
      "needs_background": "light"
     },
     "output_type": "display_data"
    },
    {
     "data": {
      "image/png": "[encoded data removed]",
      "text/plain": [
       "<Figure size 432x288 with 1 Axes>"
      ]
     },
     "metadata": {
      "needs_background": "light"
     },
     "output_type": "display_data"
    },
    {
     "data": {
      "image/png": "[encoded data removed]",
      "text/plain": [
       "<Figure size 432x288 with 1 Axes>"
      ]
     },
     "metadata": {
      "needs_background": "light"
     },
     "output_type": "display_data"
    }
   ],
   "source": [
    "column_list = [\"Happiness Score\",\"GDP\",\"Family\",\"Life\",\"Freedom\",\"Trust\",\"Generosity\"]\n",
    "for col in column_list:\n",
    "    sns.boxplot(x = df[col])\n",
    "    plt.xlabel(col)\n",
    "    plt.show()"
   ]
  },
  {
   "cell_type": "markdown",
   "id": "4f23f6b9",
   "metadata": {
    "papermill": {
     "duration": 0.096141,
     "end_time": "2022-02-23T17:16:33.051560",
     "exception": false,
     "start_time": "2022-02-23T17:16:32.955419",
     "status": "completed"
    },
    "tags": []
   },
   "source": [
    "# Outlier Engineering"
   ]
  },
  {
   "cell_type": "code",
   "execution_count": 49,
   "id": "00235ef9",
   "metadata": {
    "papermill": {
     "duration": 0.111466,
     "end_time": "2022-02-23T17:16:33.260406",
     "exception": false,
     "start_time": "2022-02-23T17:16:33.148940",
     "status": "completed"
    },
    "tags": []
   },
   "outputs": [],
   "source": [
    "IQR = df[\"Trust\"].quantile(0.75) - df[\"Trust\"].quantile(0.25)\n",
    "\n",
    "lower_boundary = df[\"Trust\"].quantile(0.25) - (IQR * 1.5)\n",
    "upper_boundary = df[\"Trust\"].quantile(0.75) + (IQR * 1.5)\n",
    "        \n",
    "df[\"Trust\"]= np.where(df[\"Trust\"] > upper_boundary, upper_boundary,\n",
    "                       np.where(df[\"Trust\"] < lower_boundary, lower_boundary, df[\"Trust\"])) "
   ]
  },
  {
   "cell_type": "code",
   "execution_count": 50,
   "id": "2e151da3",
   "metadata": {
    "papermill": {
     "duration": 0.298311,
     "end_time": "2022-02-23T17:16:33.661851",
     "exception": false,
     "start_time": "2022-02-23T17:16:33.363540",
     "status": "completed"
    },
    "tags": []
   },
   "outputs": [
    {
     "data": {
      "text/plain": [
       "<AxesSubplot: xlabel='Trust'>"
      ]
     },
     "execution_count": 50,
     "metadata": {},
     "output_type": "execute_result"
    },
    {
     "data": {
      "image/png": "[encoded data removed]",
      "text/plain": [
       "<Figure size 432x288 with 1 Axes>"
      ]
     },
     "metadata": {
      "needs_background": "light"
     },
     "output_type": "display_data"
    }
   ],
   "source": [
    "sns.boxplot(data=df,x=\"Trust\")"
   ]
  },
  {
   "cell_type": "code",
   "execution_count": 51,
   "id": "85e3e1ed",
   "metadata": {
    "papermill": {
     "duration": 0.114448,
     "end_time": "2022-02-23T17:16:33.878108",
     "exception": false,
     "start_time": "2022-02-23T17:16:33.763660",
     "status": "completed"
    },
    "tags": []
   },
   "outputs": [],
   "source": [
    "IQR = df[\"Generosity\"].quantile(0.75) - df[\"Generosity\"].quantile(0.25)\n",
    "\n",
    "lower_boundary = df[\"Generosity\"].quantile(0.25) - (IQR * 1.5)\n",
    "upper_boundary = df[\"Generosity\"].quantile(0.75) + (IQR * 1.5)\n",
    "        \n",
    "df[\"Generosity\"]= np.where(df[\"Generosity\"] > upper_boundary, upper_boundary,\n",
    "                       np.where(df[\"Generosity\"] < lower_boundary, lower_boundary, df[\"Generosity\"])) "
   ]
  },
  {
   "cell_type": "code",
   "execution_count": 52,
   "id": "f6722717",
   "metadata": {
    "papermill": {
     "duration": 0.341036,
     "end_time": "2022-02-23T17:16:34.315177",
     "exception": false,
     "start_time": "2022-02-23T17:16:33.974141",
     "status": "completed"
    },
    "tags": []
   },
   "outputs": [
    {
     "data": {
      "text/plain": [
       "<AxesSubplot: xlabel='Generosity'>"
      ]
     },
     "execution_count": 52,
     "metadata": {},
     "output_type": "execute_result"
    },
    {
     "data": {
      "image/png": "[encoded data removed]",
      "text/plain": [
       "<Figure size 432x288 with 1 Axes>"
      ]
     },
     "metadata": {
      "needs_background": "light"
     },
     "output_type": "display_data"
    }
   ],
   "source": [
    "sns.boxplot(data=df,x=\"Generosity\")"
   ]
  },
  {
   "cell_type": "code",
   "execution_count": 53,
   "id": "fdf273d3",
   "metadata": {
    "id": "EPh-i-qWaTAW",
    "outputId": "3f84e799-4b1c-477b-b00f-e148c4be69c4",
    "papermill": {
     "duration": 0.110961,
     "end_time": "2022-02-23T17:16:34.550331",
     "exception": false,
     "start_time": "2022-02-23T17:16:34.439370",
     "status": "completed"
    },
    "tags": []
   },
   "outputs": [
    {
     "data": {
      "text/plain": [
       "Country            0\n",
       "Happiness Rank     0\n",
       "Happiness Score    0\n",
       "GDP                0\n",
       "Family             0\n",
       "Life               0\n",
       "Freedom            0\n",
       "Trust              0\n",
       "Generosity         0\n",
       "dtype: int64"
      ]
     },
     "execution_count": 53,
     "metadata": {},
     "output_type": "execute_result"
    }
   ],
   "source": [
    "df.isnull().sum()"
   ]
  },
  {
   "cell_type": "code",
   "execution_count": 54,
   "id": "8963844d",
   "metadata": {
    "id": "Snn7ekdCbDNS",
    "papermill": {
     "duration": 0.111104,
     "end_time": "2022-02-23T17:16:34.762733",
     "exception": false,
     "start_time": "2022-02-23T17:16:34.651629",
     "status": "completed"
    },
    "tags": []
   },
   "outputs": [],
   "source": [
    "df[\"Trust\"].fillna(df[\"Trust\"].median(),inplace=True)"
   ]
  },
  {
   "cell_type": "code",
   "execution_count": 55,
   "id": "85be2d4d",
   "metadata": {
    "id": "Cl00inFlbZ0m",
    "outputId": "3cc9b07a-01f6-405f-e28b-5266c0c8759d",
    "papermill": {
     "duration": 0.109486,
     "end_time": "2022-02-23T17:16:34.972939",
     "exception": false,
     "start_time": "2022-02-23T17:16:34.863453",
     "status": "completed"
    },
    "tags": []
   },
   "outputs": [
    {
     "data": {
      "text/plain": [
       "Country            0\n",
       "Happiness Rank     0\n",
       "Happiness Score    0\n",
       "GDP                0\n",
       "Family             0\n",
       "Life               0\n",
       "Freedom            0\n",
       "Trust              0\n",
       "Generosity         0\n",
       "dtype: int64"
      ]
     },
     "execution_count": 55,
     "metadata": {},
     "output_type": "execute_result"
    }
   ],
   "source": [
    "df.isnull().sum()"
   ]
  },
  {
   "cell_type": "code",
   "execution_count": 56,
   "id": "127f689e",
   "metadata": {
    "id": "qVXzJs5-2fPN",
    "papermill": {
     "duration": 0.108921,
     "end_time": "2022-02-23T17:16:35.179445",
     "exception": false,
     "start_time": "2022-02-23T17:16:35.070524",
     "status": "completed"
    },
    "tags": []
   },
   "outputs": [],
   "source": [
    "ndf = df.drop(columns=[\"Country\",\"Happiness Rank\"],axis=1)"
   ]
  },
  {
   "cell_type": "code",
   "execution_count": 57,
   "id": "527449ee",
   "metadata": {
    "id": "9TpeWhsx3Dgu",
    "outputId": "a29e8276-163f-4d90-8a30-c4a7d8005b27",
    "papermill": {
     "duration": 0.121963,
     "end_time": "2022-02-23T17:16:35.401215",
     "exception": false,
     "start_time": "2022-02-23T17:16:35.279252",
     "status": "completed"
    },
    "tags": []
   },
   "outputs": [
    {
     "data": {
      "text/html": [
       "<div>\n",
       "<style scoped>\n",
       "    .dataframe tbody tr th:only-of-type {\n",
       "        vertical-align: middle;\n",
       "    }\n",
       "\n",
       "    .dataframe tbody tr th {\n",
       "        vertical-align: top;\n",
       "    }\n",
       "\n",
       "    .dataframe thead th {\n",
       "        text-align: right;\n",
       "    }\n",
       "</style>\n",
       "<table border=\"1\" class=\"dataframe\">\n",
       "  <thead>\n",
       "    <tr style=\"text-align: right;\">\n",
       "      <th></th>\n",
       "      <th>Happiness Score</th>\n",
       "      <th>GDP</th>\n",
       "      <th>Family</th>\n",
       "      <th>Life</th>\n",
       "      <th>Freedom</th>\n",
       "      <th>Trust</th>\n",
       "      <th>Generosity</th>\n",
       "    </tr>\n",
       "  </thead>\n",
       "  <tbody>\n",
       "    <tr>\n",
       "      <th>0</th>\n",
       "      <td>7.587</td>\n",
       "      <td>1.39651</td>\n",
       "      <td>1.34951</td>\n",
       "      <td>0.94143</td>\n",
       "      <td>0.66557</td>\n",
       "      <td>0.358125</td>\n",
       "      <td>0.29678</td>\n",
       "    </tr>\n",
       "    <tr>\n",
       "      <th>1</th>\n",
       "      <td>7.561</td>\n",
       "      <td>1.30232</td>\n",
       "      <td>1.40223</td>\n",
       "      <td>0.94784</td>\n",
       "      <td>0.62877</td>\n",
       "      <td>0.141450</td>\n",
       "      <td>0.43630</td>\n",
       "    </tr>\n",
       "    <tr>\n",
       "      <th>2</th>\n",
       "      <td>7.527</td>\n",
       "      <td>1.32548</td>\n",
       "      <td>1.36058</td>\n",
       "      <td>0.87464</td>\n",
       "      <td>0.64938</td>\n",
       "      <td>0.358125</td>\n",
       "      <td>0.34139</td>\n",
       "    </tr>\n",
       "    <tr>\n",
       "      <th>3</th>\n",
       "      <td>7.522</td>\n",
       "      <td>1.45900</td>\n",
       "      <td>1.33095</td>\n",
       "      <td>0.88521</td>\n",
       "      <td>0.66973</td>\n",
       "      <td>0.358125</td>\n",
       "      <td>0.34699</td>\n",
       "    </tr>\n",
       "    <tr>\n",
       "      <th>4</th>\n",
       "      <td>7.427</td>\n",
       "      <td>1.32629</td>\n",
       "      <td>1.32261</td>\n",
       "      <td>0.90563</td>\n",
       "      <td>0.63297</td>\n",
       "      <td>0.329570</td>\n",
       "      <td>0.45811</td>\n",
       "    </tr>\n",
       "  </tbody>\n",
       "</table>\n",
       "</div>"
      ],
      "text/plain": [
       "   Happiness Score      GDP   Family     Life  Freedom     Trust  Generosity\n",
       "0            7.587  1.39651  1.34951  0.94143  0.66557  0.358125     0.29678\n",
       "1            7.561  1.30232  1.40223  0.94784  0.62877  0.141450     0.43630\n",
       "2            7.527  1.32548  1.36058  0.87464  0.64938  0.358125     0.34139\n",
       "3            7.522  1.45900  1.33095  0.88521  0.66973  0.358125     0.34699\n",
       "4            7.427  1.32629  1.32261  0.90563  0.63297  0.329570     0.45811"
      ]
     },
     "execution_count": 57,
     "metadata": {},
     "output_type": "execute_result"
    }
   ],
   "source": [
    "ndf.head()"
   ]
  },
  {
   "cell_type": "code",
   "execution_count": 58,
   "id": "a56103fe",
   "metadata": {
    "id": "FUIdWE2V4pby",
    "outputId": "c23baf4c-4aa5-4911-be0b-bde412698d6a",
    "papermill": {
     "duration": 0.109733,
     "end_time": "2022-02-23T17:16:35.609960",
     "exception": false,
     "start_time": "2022-02-23T17:16:35.500227",
     "status": "completed"
    },
    "tags": []
   },
   "outputs": [
    {
     "data": {
      "text/plain": [
       "(158, 7)"
      ]
     },
     "execution_count": 58,
     "metadata": {},
     "output_type": "execute_result"
    }
   ],
   "source": [
    "ndf.shape"
   ]
  },
  {
   "cell_type": "code",
   "execution_count": 59,
   "id": "347b9dc5",
   "metadata": {
    "id": "f8iHnqBJ5rRK",
    "outputId": "b1d25061-11c9-4b14-adf6-42bea179338a",
    "papermill": {
     "duration": 2.426179,
     "end_time": "2022-02-23T17:16:39.395157",
     "exception": false,
     "start_time": "2022-02-23T17:16:36.968978",
     "status": "completed"
    },
    "tags": []
   },
   "outputs": [
    {
     "data": {
      "text/plain": [
       "<seaborn.axisgrid.PairGrid at 0x7f31cc0677f0>"
      ]
     },
     "execution_count": 59,
     "metadata": {},
     "output_type": "execute_result"
    },
    {
     "data": {
      "image/png": "[encoded data removed]",
      "text/plain": [
       "<Figure size 810.875x180 with 4 Axes>"
      ]
     },
     "metadata": {
      "needs_background": "light"
     },
     "output_type": "display_data"
    }
   ],
   "source": [
    "sns.pairplot(\n",
    "    ndf,\n",
    "    x_vars=[\"GDP\",\"Family\",\"Life\",\"Freedom\"],\n",
    "    y_vars=[\"Happiness Score\"],hue=\"Happiness Score\"\n",
    ")"
   ]
  },
  {
   "cell_type": "markdown",
   "id": "4b8a2217",
   "metadata": {
    "id": "L383D92P_9VR",
    "papermill": {
     "duration": 0.103776,
     "end_time": "2022-02-23T17:16:39.603412",
     "exception": false,
     "start_time": "2022-02-23T17:16:39.499636",
     "status": "completed"
    },
    "tags": []
   },
   "source": [
    "# **Scale and Split**"
   ]
  },
  {
   "cell_type": "code",
   "execution_count": 60,
   "id": "35d93bca",
   "metadata": {
    "id": "3-FCGNYAF9Ge",
    "papermill": {
     "duration": 0.116068,
     "end_time": "2022-02-23T17:16:39.821843",
     "exception": false,
     "start_time": "2022-02-23T17:16:39.705775",
     "status": "completed"
    },
    "tags": []
   },
   "outputs": [],
   "source": [
    "X_train,X_test,y_train,y_test = train_test_split(ndf.drop(columns=[\"Happiness Score\"]),ndf[\"Happiness Score\"],test_size=0.12,random_state=0)"
   ]
  },
  {
   "cell_type": "code",
   "execution_count": 61,
   "id": "7bbb96bd",
   "metadata": {
    "id": "wV6LE_9CAKh_",
    "papermill": {
     "duration": 0.110123,
     "end_time": "2022-02-23T17:16:40.034619",
     "exception": false,
     "start_time": "2022-02-23T17:16:39.924496",
     "status": "completed"
    },
    "tags": []
   },
   "outputs": [],
   "source": [
    "se = StandardScaler()"
   ]
  },
  {
   "cell_type": "code",
   "execution_count": 62,
   "id": "0585566d",
   "metadata": {
    "id": "BoqPZLvUAw6t",
    "papermill": {
     "duration": 0.123707,
     "end_time": "2022-02-23T17:16:40.262186",
     "exception": false,
     "start_time": "2022-02-23T17:16:40.138479",
     "status": "completed"
    },
    "tags": []
   },
   "outputs": [],
   "source": [
    "X_train = se.fit_transform(X_train)\n",
    "X_test = se.fit_transform(X_test)"
   ]
  },
  {
   "cell_type": "code",
   "execution_count": 63,
   "id": "5d37d5a1",
   "metadata": {
    "id": "NsEgMxwhIH0x",
    "outputId": "83d208f2-8f15-4cae-9c36-0bc2ffa9e60d",
    "papermill": {
     "duration": 0.112923,
     "end_time": "2022-02-23T17:16:40.479254",
     "exception": false,
     "start_time": "2022-02-23T17:16:40.366331",
     "status": "completed"
    },
    "tags": []
   },
   "outputs": [
    {
     "data": {
      "text/plain": [
       "((139, 6), (19, 6))"
      ]
     },
     "execution_count": 63,
     "metadata": {},
     "output_type": "execute_result"
    }
   ],
   "source": [
    "X_train.shape,X_test.shape"
   ]
  },
  {
   "cell_type": "code",
   "execution_count": 64,
   "id": "eb522357",
   "metadata": {
    "id": "_DNx8ppbtRUS",
    "outputId": "2d0747ea-efe2-4048-a0d5-911c70b3f518",
    "papermill": {
     "duration": 0.111572,
     "end_time": "2022-02-23T17:16:40.696981",
     "exception": false,
     "start_time": "2022-02-23T17:16:40.585409",
     "status": "completed"
    },
    "tags": []
   },
   "outputs": [
    {
     "data": {
      "text/plain": [
       "((139,), (19,))"
      ]
     },
     "execution_count": 64,
     "metadata": {},
     "output_type": "execute_result"
    }
   ],
   "source": [
    "y_train.shape,y_test.shape"
   ]
  },
  {
   "cell_type": "markdown",
   "id": "12701257",
   "metadata": {
    "papermill": {
     "duration": 0.103561,
     "end_time": "2022-02-23T17:16:40.903596",
     "exception": false,
     "start_time": "2022-02-23T17:16:40.800035",
     "status": "completed"
    },
    "tags": []
   },
   "source": [
    "# Model Training"
   ]
  },
  {
   "cell_type": "markdown",
   "id": "c1c86870",
   "metadata": {
    "id": "t2faFqzfDPlj",
    "papermill": {
     "duration": 0.103036,
     "end_time": "2022-02-23T17:16:41.109698",
     "exception": false,
     "start_time": "2022-02-23T17:16:41.006662",
     "status": "completed"
    },
    "tags": []
   },
   "source": [
    "**Linear Regression** "
   ]
  },
  {
   "cell_type": "code",
   "execution_count": 65,
   "id": "29a9c183",
   "metadata": {
    "id": "KqviGaYlJbT3",
    "papermill": {
     "duration": 0.112708,
     "end_time": "2022-02-23T17:16:41.325293",
     "exception": false,
     "start_time": "2022-02-23T17:16:41.212585",
     "status": "completed"
    },
    "tags": []
   },
   "outputs": [],
   "source": [
    "model_le = LinearRegression()"
   ]
  },
  {
   "cell_type": "code",
   "execution_count": 66,
   "id": "3727b635",
   "metadata": {
    "id": "QUZCPG4jJjOb",
    "outputId": "58c1d300-9a4f-4460-d12e-cb21bdd59d5f",
    "papermill": {
     "duration": 0.13231,
     "end_time": "2022-02-23T17:16:41.562690",
     "exception": false,
     "start_time": "2022-02-23T17:16:41.430380",
     "status": "completed"
    },
    "tags": []
   },
   "outputs": [
    {
     "data": {
      "text/html": [
       "<style>#sk-container-id-2 {color: black;background-color: white;}#sk-container-id-2 pre{padding: 0;}#sk-container-id-2 div.sk-toggleable {background-color: white;}#sk-container-id-2 label.sk-toggleable__label {cursor: pointer;display: block;width: 100%;margin-bottom: 0;padding: 0.3em;box-sizing: border-box;text-align: center;}#sk-container-id-2 label.sk-toggleable__label-arrow:before {content: \"▸\";float: left;margin-right: 0.25em;color: #696969;}#sk-container-id-2 label.sk-toggleable__label-arrow:hover:before {color: black;}#sk-container-id-2 div.sk-estimator:hover label.sk-toggleable__label-arrow:before {color: black;}#sk-container-id-2 div.sk-toggleable__content {max-height: 0;max-width: 0;overflow: hidden;text-align: left;background-color: #f0f8ff;}#sk-container-id-2 div.sk-toggleable__content pre {margin: 0.2em;color: black;border-radius: 0.25em;background-color: #f0f8ff;}#sk-container-id-2 input.sk-toggleable__control:checked~div.sk-toggleable__content {max-height: 200px;max-width: 100%;overflow: auto;}#sk-container-id-2 input.sk-toggleable__control:checked~label.sk-toggleable__label-arrow:before {content: \"▾\";}#sk-container-id-2 div.sk-estimator input.sk-toggleable__control:checked~label.sk-toggleable__label {background-color: #d4ebff;}#sk-container-id-2 div.sk-label input.sk-toggleable__control:checked~label.sk-toggleable__label {background-color: #d4ebff;}#sk-container-id-2 input.sk-hidden--visually {border: 0;clip: rect(1px 1px 1px 1px);clip: rect(1px, 1px, 1px, 1px);height: 1px;margin: -1px;overflow: hidden;padding: 0;position: absolute;width: 1px;}#sk-container-id-2 div.sk-estimator {font-family: monospace;background-color: #f0f8ff;border: 1px dotted black;border-radius: 0.25em;box-sizing: border-box;margin-bottom: 0.5em;}#sk-container-id-2 div.sk-estimator:hover {background-color: #d4ebff;}#sk-container-id-2 div.sk-parallel-item::after {content: \"\";width: 100%;border-bottom: 1px solid gray;flex-grow: 1;}#sk-container-id-2 div.sk-label:hover label.sk-toggleable__label {background-color: #d4ebff;}#sk-container-id-2 div.sk-serial::before {content: \"\";position: absolute;border-left: 1px solid gray;box-sizing: border-box;top: 0;bottom: 0;left: 50%;z-index: 0;}#sk-container-id-2 div.sk-serial {display: flex;flex-direction: column;align-items: center;background-color: white;padding-right: 0.2em;padding-left: 0.2em;position: relative;}#sk-container-id-2 div.sk-item {position: relative;z-index: 1;}#sk-container-id-2 div.sk-parallel {display: flex;align-items: stretch;justify-content: center;background-color: white;position: relative;}#sk-container-id-2 div.sk-item::before, #sk-container-id-2 div.sk-parallel-item::before {content: \"\";position: absolute;border-left: 1px solid gray;box-sizing: border-box;top: 0;bottom: 0;left: 50%;z-index: -1;}#sk-container-id-2 div.sk-parallel-item {display: flex;flex-direction: column;z-index: 1;position: relative;background-color: white;}#sk-container-id-2 div.sk-parallel-item:first-child::after {align-self: flex-end;width: 50%;}#sk-container-id-2 div.sk-parallel-item:last-child::after {align-self: flex-start;width: 50%;}#sk-container-id-2 div.sk-parallel-item:only-child::after {width: 0;}#sk-container-id-2 div.sk-dashed-wrapped {border: 1px dashed gray;margin: 0 0.4em 0.5em 0.4em;box-sizing: border-box;padding-bottom: 0.4em;background-color: white;}#sk-container-id-2 div.sk-label label {font-family: monospace;font-weight: bold;display: inline-block;line-height: 1.2em;}#sk-container-id-2 div.sk-label-container {text-align: center;}#sk-container-id-2 div.sk-container {/* jupyter's `normalize.less` sets `[hidden] { display: none; }` but bootstrap.min.css set `[hidden] { display: none !important; }` so we also need the `!important` here to be able to override the default hidden behavior on the sphinx rendered scikit-learn.org. See: https://github.com/scikit-learn/scikit-learn/issues/21755 */display: inline-block !important;position: relative;}#sk-container-id-2 div.sk-text-repr-fallback {display: none;}</style><div id=\"sk-container-id-2\" class=\"sk-top-container\"><div class=\"sk-text-repr-fallback\"><pre>LinearRegression()</pre><b>In a Jupyter environment, please rerun this cell to show the HTML representation or trust the notebook. <br />On GitHub, the HTML representation is unable to render, please try loading this page with nbviewer.org.</b></div><div class=\"sk-container\" hidden><div class=\"sk-item\"><div class=\"sk-estimator sk-toggleable\"><input class=\"sk-toggleable__control sk-hidden--visually\" id=\"sk-estimator-id-2\" type=\"checkbox\" checked><label for=\"sk-estimator-id-2\" class=\"sk-toggleable__label sk-toggleable__label-arrow\">LinearRegression</label><div class=\"sk-toggleable__content\"><pre>LinearRegression()</pre></div></div></div></div></div>"
      ],
      "text/plain": [
       "LinearRegression()"
      ]
     },
     "execution_count": 66,
     "metadata": {},
     "output_type": "execute_result"
    }
   ],
   "source": [
    "model_le.fit(X_train,y_train)"
   ]
  },
  {
   "cell_type": "code",
   "execution_count": 67,
   "id": "7285fcbc",
   "metadata": {
    "id": "1g02T_HQJtqK",
    "outputId": "95cd565b-dd26-4cb9-aa10-0a8ae6d760c7",
    "papermill": {
     "duration": 0.115764,
     "end_time": "2022-02-23T17:16:41.784326",
     "exception": false,
     "start_time": "2022-02-23T17:16:41.668562",
     "status": "completed"
    },
    "tags": []
   },
   "outputs": [
    {
     "data": {
      "text/plain": [
       "array([0.33410507, 0.39674558, 0.23601751, 0.2180846 , 0.11914813,\n",
       "       0.01115495])"
      ]
     },
     "execution_count": 67,
     "metadata": {},
     "output_type": "execute_result"
    }
   ],
   "source": [
    "model_le.coef_"
   ]
  },
  {
   "cell_type": "code",
   "execution_count": 68,
   "id": "c5aeed19",
   "metadata": {
    "id": "KUXUM9TSJ7pf",
    "outputId": "b3b153ef-9be0-4cea-b64f-e3a138f5102d",
    "papermill": {
     "duration": 0.11353,
     "end_time": "2022-02-23T17:16:42.004069",
     "exception": false,
     "start_time": "2022-02-23T17:16:41.890539",
     "status": "completed"
    },
    "tags": []
   },
   "outputs": [
    {
     "data": {
      "text/plain": [
       "5.411496402877699"
      ]
     },
     "execution_count": 68,
     "metadata": {},
     "output_type": "execute_result"
    }
   ],
   "source": [
    "model_le.intercept_"
   ]
  },
  {
   "cell_type": "code",
   "execution_count": 69,
   "id": "d4a06cca",
   "metadata": {
    "id": "U8W-XfvhCnsX",
    "papermill": {
     "duration": 0.112428,
     "end_time": "2022-02-23T17:16:42.220958",
     "exception": false,
     "start_time": "2022-02-23T17:16:42.108530",
     "status": "completed"
    },
    "tags": []
   },
   "outputs": [],
   "source": [
    "le_y_pred = model_le.predict(X_test)"
   ]
  },
  {
   "cell_type": "code",
   "execution_count": 70,
   "id": "5f3370a5",
   "metadata": {
    "id": "UlIup88eKAf2",
    "outputId": "5a29978b-64f1-4a6d-d5d1-aa8701763ed6",
    "papermill": {
     "duration": 0.114727,
     "end_time": "2022-02-23T17:16:42.442052",
     "exception": false,
     "start_time": "2022-02-23T17:16:42.327325",
     "status": "completed"
    },
    "tags": []
   },
   "outputs": [
    {
     "name": "stdout",
     "output_type": "stream",
     "text": [
      "Linear Regression Train Score: 0.7903893684032441\n"
     ]
    }
   ],
   "source": [
    "print(f\"Linear Regression Train Score: {model_le.score(X_train,y_train)}\")"
   ]
  },
  {
   "cell_type": "code",
   "execution_count": 71,
   "id": "29586524",
   "metadata": {
    "papermill": {
     "duration": 0.135016,
     "end_time": "2022-02-23T17:16:42.682706",
     "exception": false,
     "start_time": "2022-02-23T17:16:42.547690",
     "status": "completed"
    },
    "tags": []
   },
   "outputs": [],
   "source": [
    "cross_v=cross_val_score(model_le,X_train,y_train,cv=10,scoring=\"r2\").mean()"
   ]
  },
  {
   "cell_type": "code",
   "execution_count": 72,
   "id": "c54ef019",
   "metadata": {
    "id": "C9f_a4Ep4rWr",
    "outputId": "8a04942f-b652-4c5a-931d-855cf8675fba",
    "papermill": {
     "duration": 0.113574,
     "end_time": "2022-02-23T17:16:42.901423",
     "exception": false,
     "start_time": "2022-02-23T17:16:42.787849",
     "status": "completed"
    },
    "tags": []
   },
   "outputs": [
    {
     "name": "stdout",
     "output_type": "stream",
     "text": [
      "Cross Validation Score: 0.7055100565568873\n"
     ]
    }
   ],
   "source": [
    "print(f\"Cross Validation Score: {cross_v}\")"
   ]
  },
  {
   "cell_type": "code",
   "execution_count": 73,
   "id": "00347109",
   "metadata": {
    "papermill": {
     "duration": 0.113601,
     "end_time": "2022-02-23T17:16:43.120538",
     "exception": false,
     "start_time": "2022-02-23T17:16:43.006937",
     "status": "completed"
    },
    "tags": []
   },
   "outputs": [],
   "source": [
    "l_test_score = r2_score(y_test,le_y_pred)"
   ]
  },
  {
   "cell_type": "code",
   "execution_count": 74,
   "id": "8035a81f",
   "metadata": {
    "id": "92lefGWZw5if",
    "papermill": {
     "duration": 0.116541,
     "end_time": "2022-02-23T17:16:43.342961",
     "exception": false,
     "start_time": "2022-02-23T17:16:43.226420",
     "status": "completed"
    },
    "tags": []
   },
   "outputs": [
    {
     "name": "stdout",
     "output_type": "stream",
     "text": [
      "Linear Regression Test Score: 0.5312073269331508\n"
     ]
    }
   ],
   "source": [
    "print(f\"Linear Regression Test Score: {l_test_score}\")"
   ]
  },
  {
   "cell_type": "code",
   "execution_count": 75,
   "id": "597abd3a",
   "metadata": {
    "id": "rHv5VdydOHnc",
    "papermill": {
     "duration": 0.11278,
     "end_time": "2022-02-23T17:16:43.561511",
     "exception": false,
     "start_time": "2022-02-23T17:16:43.448731",
     "status": "completed"
    },
    "tags": []
   },
   "outputs": [],
   "source": [
    "from sklearn.model_selection import GridSearchCV"
   ]
  },
  {
   "cell_type": "markdown",
   "id": "35b43680",
   "metadata": {
    "id": "gAmqYaSiTuwx",
    "papermill": {
     "duration": 0.105682,
     "end_time": "2022-02-23T17:16:43.775342",
     "exception": false,
     "start_time": "2022-02-23T17:16:43.669660",
     "status": "completed"
    },
    "tags": []
   },
   "source": [
    "**Random Forest Regression** "
   ]
  },
  {
   "cell_type": "code",
   "execution_count": 76,
   "id": "de9fa046",
   "metadata": {
    "id": "mHsQQApyVXSc",
    "papermill": {
     "duration": 0.501901,
     "end_time": "2022-02-23T17:16:44.383338",
     "exception": false,
     "start_time": "2022-02-23T17:16:43.881437",
     "status": "completed"
    },
    "tags": []
   },
   "outputs": [],
   "source": [
    "rf_model = RandomForestRegressor(random_state=42).fit(X_train,y_train)"
   ]
  },
  {
   "cell_type": "code",
   "execution_count": 77,
   "id": "73a83aec",
   "metadata": {
    "id": "KdEDA22-o1Hm",
    "outputId": "14be0281-18b8-4993-a216-b94a5c2b4bb3",
    "papermill": {
     "duration": 3.802082,
     "end_time": "2022-02-23T17:16:48.294394",
     "exception": false,
     "start_time": "2022-02-23T17:16:44.492312",
     "status": "completed"
    },
    "tags": []
   },
   "outputs": [
    {
     "name": "stdout",
     "output_type": "stream",
     "text": [
      "Random Forest Model Train Score: 96.64074877652516\n",
      "RF Cross Validation Score: 70.51143640328776\n"
     ]
    }
   ],
   "source": [
    "print(\"Random Forest Model Train Score:\",rf_model.score(X_train,y_train)*100)\n",
    "print(\"RF Cross Validation Score:\",cross_val_score(rf_model,X_train,y_train,cv=10,scoring=\"r2\").mean()*100)"
   ]
  },
  {
   "cell_type": "markdown",
   "id": "be9f6ce4",
   "metadata": {
    "papermill": {
     "duration": 0.107024,
     "end_time": "2022-02-23T17:16:48.510971",
     "exception": false,
     "start_time": "2022-02-23T17:16:48.403947",
     "status": "completed"
    },
    "tags": []
   },
   "source": [
    "Random forest model overfitted."
   ]
  },
  {
   "cell_type": "markdown",
   "id": "e3837279",
   "metadata": {
    "papermill": {
     "duration": 0.113068,
     "end_time": "2022-02-23T17:25:15.615365",
     "exception": false,
     "start_time": "2022-02-23T17:25:15.502297",
     "status": "completed"
    },
    "tags": []
   },
   "source": [
    "**Decision Tree Regression**"
   ]
  },
  {
   "cell_type": "code",
   "execution_count": 78,
   "id": "7bfb5396",
   "metadata": {
    "papermill": {
     "duration": 0.124818,
     "end_time": "2022-02-23T17:25:15.852611",
     "exception": false,
     "start_time": "2022-02-23T17:25:15.727793",
     "status": "completed"
    },
    "tags": []
   },
   "outputs": [],
   "source": [
    "dt_model = DecisionTreeRegressor(random_state=42).fit(X_train,y_train)"
   ]
  },
  {
   "cell_type": "code",
   "execution_count": 79,
   "id": "afd919a7",
   "metadata": {
    "papermill": {
     "duration": 0.119541,
     "end_time": "2022-02-23T17:25:16.084254",
     "exception": false,
     "start_time": "2022-02-23T17:25:15.964713",
     "status": "completed"
    },
    "tags": []
   },
   "outputs": [],
   "source": [
    "dt_y_pred = dt_model.predict(X_test)"
   ]
  },
  {
   "cell_type": "code",
   "execution_count": 80,
   "id": "d65b37f2",
   "metadata": {
    "papermill": {
     "duration": 0.118896,
     "end_time": "2022-02-23T17:25:16.315046",
     "exception": false,
     "start_time": "2022-02-23T17:25:16.196150",
     "status": "completed"
    },
    "tags": []
   },
   "outputs": [],
   "source": [
    "dt_test_score= r2_score(y_test,dt_y_pred)"
   ]
  },
  {
   "cell_type": "code",
   "execution_count": 81,
   "id": "be5a292d",
   "metadata": {
    "papermill": {
     "duration": 0.178176,
     "end_time": "2022-02-23T17:25:16.606321",
     "exception": false,
     "start_time": "2022-02-23T17:25:16.428145",
     "status": "completed"
    },
    "tags": []
   },
   "outputs": [
    {
     "name": "stdout",
     "output_type": "stream",
     "text": [
      "Decision Tree Train Score:  1.0\n",
      "Decision Tree Cross Validation Score:  0.4822696746410765\n",
      "Decision Tree Test Score: -0.24906418197789315\n"
     ]
    }
   ],
   "source": [
    "print(\"Decision Tree Train Score: \",dt_model.score(X_train,y_train))\n",
    "print(\"Decision Tree Cross Validation Score: \",cross_val_score(dt_model,X_train,y_train,cv=10,scoring=\"r2\").mean())\n",
    "print(f\"Decision Tree Test Score: {dt_test_score}\")"
   ]
  },
  {
   "cell_type": "code",
   "execution_count": null,
   "id": "1a20dd7b-6e52-4af1-ae6f-c33963fe3bd4",
   "metadata": {},
   "outputs": [],
   "source": []
  }
 ],
 "metadata": {
  "kernelspec": {
   "display_name": "Python 3",
   "language": "python",
   "name": "python3"
  },
  "language_info": {
   "codemirror_mode": {
    "name": "ipython",
    "version": 3
   },
   "file_extension": ".py",
   "mimetype": "text/x-python",
   "name": "python",
   "nbconvert_exporter": "python",
   "pygments_lexer": "ipython3",
   "version": "3.8.5"
  },
  "papermill": {
   "default_parameters": {},
   "duration": 557.125318,
   "end_time": "2022-02-23T17:25:31.915234",
   "environment_variables": {},
   "exception": null,
   "input_path": "__notebook__.ipynb",
   "output_path": "__notebook__.ipynb",
   "parameters": {},
   "start_time": "2022-02-23T17:16:14.789916",
   "version": "2.3.3"
  }
 },
 "nbformat": 4,
 "nbformat_minor": 5
}
